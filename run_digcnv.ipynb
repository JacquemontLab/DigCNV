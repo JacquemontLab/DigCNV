{
 "cells": [
  {
   "cell_type": "markdown",
   "metadata": {},
   "source": [
    "# Example of DigCNV"
   ]
  },
  {
   "cell_type": "code",
   "execution_count": 1,
   "metadata": {},
   "outputs": [],
   "source": [
    "from DigCNV import dataVerif, dataPreparation, digCnvModel, DigCnvPreProcessing\n",
    "import pandas as pd"
   ]
  },
  {
   "cell_type": "code",
   "execution_count": null,
   "metadata": {},
   "outputs": [],
   "source": []
  },
  {
   "cell_type": "code",
   "execution_count": 2,
   "metadata": {},
   "outputs": [],
   "source": [
    "# Path to cnvs that will be classified\n",
    "cnvs = pd.read_csv('DigCNV/data/example_cnvs.tsv', sep='\\t')\n",
    "\n",
    "# List of mandatories columns to use pre the model.\n",
    "model_dimensions = ['WF', 'Score_SNP', 'DENSITY', 'CallRate', 'overlapCNV_SegDup', 'TwoAlgs', 'Nb_Probe_tech']\n",
    "\n",
    "# Column name of the true classification used for the training\n",
    "true_class_name = 'SnipPeep_Ok'"
   ]
  },
  {
   "cell_type": "code",
   "execution_count": 14,
   "metadata": {},
   "outputs": [
    {
     "name": "stdout",
     "output_type": "stream",
     "text": [
      "['Unnamed: 0', 'IID', 'SampleID', 'CHR', 'START', 'STOP', 'Type', 'SCORE', 'SNP', 'SIZE', 'numbAlgos', 'Algos', 'ThreeAlgs', 'TwoAlgs', 'OneAlg', 'CallRate', 'overlapCNV_SegDup', 'overlapCNV_Centromere', 'overlapRegion_Centromere', 'LRR_mean', 'LRR_median', 'LRR_SD', 'BAF_mean', 'BAF_median', 'BAF_SD', 'BAF_DRIFT', 'WF', 'GCWF', 'TYPE', 'Phase', 'Final_observation', 'Commentaire_final', 'Tech', 'Batch', 'Type.1', 'SnipPeep_Ok', 'DENSITY', 'Score_SNP', 'Nb_Probe_tech']\n"
     ]
    },
    {
     "name": "stderr",
     "output_type": "stream",
     "text": [
      "/tmp/ipykernel_33119/495781139.py:11: SettingWithCopyWarning: \n",
      "A value is trying to be set on a copy of a slice from a DataFrame\n",
      "\n",
      "See the caveats in the documentation: https://pandas.pydata.org/pandas-docs/stable/user_guide/indexing.html#returning-a-view-versus-a-copy\n",
      "  callrates.drop_duplicates(inplace=True)\n"
     ]
    }
   ],
   "source": [
    "# cnvs = pd.read_csv('DigCNV/data/UKBB_clean_for_DigCNV.tsv', sep='\\t')\n",
    "# cnvs.rename(columns={'LociStart':'START',\n",
    "#                     'LociStop':'STOP',\n",
    "#                     'Chr':'CHR'}, inplace=True)\n",
    "# print(cnvs.columns.tolist())\n",
    "# cnvs[\"SampleID\"] = [\"IID_\" + str(x) for x in cnvs.index.tolist()]\n",
    "\n",
    "# cnvs_clean = cnvs[['SampleID','START', 'STOP', 'CHR', 'SCORE', 'SNP', 'TwoAlgs', 'overlapCNV_SegDup', 'overlapCNV_Centromere', 'LRR_mean', 'LRR_SD', 'BAF_mean', 'WF', 'GCWF', 'SnipPeep_Ok']]\n",
    "# cnvs_clean.to_csv('./DigCNV/data/example_cnvs.tsv', sep='\\t', index=False)\n",
    "# callrates = cnvs[['SampleID', 'CallRate']]\n",
    "# callrates.drop_duplicates(inplace=True)\n",
    "# callrates.to_csv('./DigCNV/data/example_callrates.tsv', sep='\\t', index=False)"
   ]
  },
  {
   "cell_type": "markdown",
   "metadata": {},
   "source": [
    "## Prepare dataset for DigCNV\n",
    "### Check data structure before adding other useful columns"
   ]
  },
  {
   "cell_type": "code",
   "execution_count": 3,
   "metadata": {},
   "outputs": [
    {
     "name": "stderr",
     "output_type": "stream",
     "text": [
      "2022-08-29 14:56:48,012 :: checkIfMandatoryColumnsExist\t- All mandatory columns exist in the given dataframe\n"
     ]
    }
   ],
   "source": [
    "dataVerif.checkIfMandatoryColumnsExist(cnvs, post_data_preparation=False)\n",
    "dataVerif.checkColumnsformats(cnvs, post_data_preparation=False)"
   ]
  },
  {
   "cell_type": "markdown",
   "metadata": {},
   "source": [
    "### Adding new features comming from derived data or other datasets"
   ]
  },
  {
   "cell_type": "code",
   "execution_count": 4,
   "metadata": {},
   "outputs": [
    {
     "name": "stderr",
     "output_type": "stream",
     "text": [
      "2022-08-29 14:56:48,218 :: addDerivedFeatures\t- Derived features (DENSITY and Score_SNP columns) created\n",
      "2022-08-29 14:56:48,270 :: addCallRateToDataset\t- CallRate added to dataset\n",
      "2022-08-29 14:56:48,662 :: addNbProbeByTech\t- Number of probes in technology added after counting number of lines in pfb file\n",
      "2022-08-29 14:56:48,664 :: addNbProbeByTech\t- Number of probes in technology added\n",
      "2022-08-29 14:56:48,685 :: transformTwoAlgsFeatures\t- Keep TwoAlgs function into percentage format\n",
      "2022-08-29 14:56:48,688 :: checkIfMandatoryColumnsExist\t- All mandatory columns exist in the given dataframe\n"
     ]
    }
   ],
   "source": [
    "cnvs = dataPreparation.addDerivedFeatures(cnvs)\n",
    "# cnvs = dataPreparation.addChromosomicAnnotation(cnvs)\n",
    "cnvs = dataPreparation.addCallRateToDataset(cnvs, call_rate_path='./DigCNV/data/callrates.tsv', callrate_colname='CallRate', individual_colname='SampleID')\n",
    "cnvs = dataPreparation.addNbProbeByTech(cnvs, pfb_file_path='./DigCNV/data/UKBB_PFB.pfb')\n",
    "cnvs = dataPreparation.transformTwoAlgsFeatures(cnvs)\n"
   ]
  },
  {
   "cell_type": "markdown",
   "metadata": {},
   "source": [
    "### Checking data before prediction"
   ]
  },
  {
   "cell_type": "code",
   "execution_count": null,
   "metadata": {},
   "outputs": [],
   "source": [
    "dataVerif.checkIfMandatoryColumnsExist(cnvs, post_data_preparation=True)\n",
    "dataVerif.checkColumnsformats(cnvs, post_data_preparation=True)\n",
    "dataVerif.computeNaPercentage(cnvs, dimensions=model_dimensions)\n",
    "dataVerif.plotCorrelationHeatMap(cnvs, list_dim=model_dimensions, output_path='./outputs/correlation.png')"
   ]
  },
  {
   "cell_type": "markdown",
   "metadata": {},
   "source": [
    "## Run model with pretrained model"
   ]
  },
  {
   "cell_type": "code",
   "execution_count": null,
   "metadata": {},
   "outputs": [],
   "source": [
    "model = digCnvModel.DigCnvModel()\n",
    "model.openPreTrainedDigCnvModel(model_path='./DigCNV/data/DigCnvModel_Trained_Mega_Spark_Ukbb.pkl')\n",
    "predicted_cnvs = model.predictCnvClasses(cnvs)\n",
    "print(predicted_cnvs.shape)\n",
    "print(predicted_cnvs.DigCNVpred.value_counts())"
   ]
  },
  {
   "cell_type": "markdown",
   "metadata": {},
   "source": [
    "## Train model with given dataset\n",
    "\n",
    "### Prepare datasets for training and testing"
   ]
  },
  {
   "cell_type": "code",
   "execution_count": null,
   "metadata": {},
   "outputs": [],
   "source": [
    "cnvs, removed = DigCnvPreProcessing.removeLinesWithNA(cnvs, dimensions=model_dimensions)\n",
    "X_train, y_train, X_test, y_test = DigCnvPreProcessing.createTrainingTestingDatasets(cnvs, X_dimension=true_class_name)\n",
    "X_train, y_train = DigCnvPreProcessing.uniformizeClassesSizes(X_train, y_train, 17, 0.4, 0.5)"
   ]
  },
  {
   "cell_type": "markdown",
   "metadata": {},
   "source": [
    "### Tunning hyperparameters used in the model (Optional, takes a lot of time)"
   ]
  },
  {
   "cell_type": "code",
   "execution_count": null,
   "metadata": {},
   "outputs": [],
   "source": []
  },
  {
   "cell_type": "markdown",
   "metadata": {},
   "source": [
    "### Training DigCNV model with given CNVs"
   ]
  },
  {
   "cell_type": "code",
   "execution_count": null,
   "metadata": {},
   "outputs": [],
   "source": [
    "dig_cnv = digCnvModel.DigCnvModel()\n",
    "dig_cnv.createDigCnvClassifier()\n",
    "dig_cnv.trainDigCnvModel(training_data=X_train, training_cat=y_train)"
   ]
  },
  {
   "cell_type": "markdown",
   "metadata": {},
   "source": [
    "### Evaluate model power + save model"
   ]
  },
  {
   "cell_type": "code",
   "execution_count": null,
   "metadata": {},
   "outputs": [],
   "source": [
    "dig_cnv.evaluateCnvClassification(testing_df=X_test, expected_valeues=y_test)\n",
    "dig_cnv.saveDigCnvModelToPkl(output_path=\"./outputs/trained_model.pkl\")"
   ]
  }
 ],
 "metadata": {
  "kernelspec": {
   "display_name": "Python 3.10.4 ('DigCNVenv': venv)",
   "language": "python",
   "name": "python3"
  },
  "language_info": {
   "codemirror_mode": {
    "name": "ipython",
    "version": 3
   },
   "file_extension": ".py",
   "mimetype": "text/x-python",
   "name": "python",
   "nbconvert_exporter": "python",
   "pygments_lexer": "ipython3",
   "version": "3.10.4"
  },
  "orig_nbformat": 4,
  "vscode": {
   "interpreter": {
    "hash": "6c6f0cfe24c4decf7bccefb3b768c4580a9738fa0db7d8350fe6b2ed0fe1e71f"
   }
  }
 },
 "nbformat": 4,
 "nbformat_minor": 2
}
