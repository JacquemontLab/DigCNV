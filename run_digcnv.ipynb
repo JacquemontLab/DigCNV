{
 "cells": [
  {
   "cell_type": "markdown",
   "metadata": {},
   "source": [
    "# Example of DigCNV"
   ]
  },
  {
   "cell_type": "code",
   "execution_count": 1,
   "metadata": {},
   "outputs": [],
   "source": [
    "from digcnv import dataVerif, dataPreparation, digCnvModel, DigCnvPreProcessing\n",
    "import pandas as pd"
   ]
  },
  {
   "cell_type": "code",
   "execution_count": null,
   "metadata": {},
   "outputs": [],
   "source": []
  },
  {
   "cell_type": "code",
   "execution_count": null,
   "metadata": {},
   "outputs": [],
   "source": [
    "# Path to cnvs that will be classified\n",
    "cnvs = pd.read_csv('DigCNV/data/example_cnvs.tsv', sep='\\t')\n",
    "\n",
    "# List of mandatories columns to use pre the model.\n",
    "model_dimensions = ['WF', 'Score_SNP', 'DENSITY', 'CallRate', 'overlapCNV_SegDup', 'TwoAlgs', 'Nb_Probe_tech']\n",
    "\n",
    "# Column name of the true classification used for the training\n",
    "true_class_name = 'SnipPeep_Ok'"
   ]
  },
  {
   "cell_type": "code",
   "execution_count": null,
   "metadata": {},
   "outputs": [],
   "source": [
    "# cnvs = pd.read_csv('DigCNV/data/UKBB_clean_for_DigCNV.tsv', sep='\\t')\n",
    "# cnvs.rename(columns={'LociStart':'START',\n",
    "#                     'LociStop':'STOP',\n",
    "#                     'Chr':'CHR'}, inplace=True)\n",
    "# print(cnvs.columns.tolist())\n",
    "# cnvs[\"SampleID\"] = [\"IID_\" + str(x) for x in cnvs.index.tolist()]\n",
    "\n",
    "# cnvs_clean = cnvs[['SampleID','START', 'STOP', 'CHR', 'SCORE', 'SNP', 'TwoAlgs', 'overlapCNV_SegDup', 'overlapCNV_Centromere', 'LRR_mean', 'LRR_SD', 'BAF_mean', 'WF', 'GCWF', 'SnipPeep_Ok']]\n",
    "# cnvs_clean.to_csv('./DigCNV/data/example_cnvs.tsv', sep='\\t', index=False)\n",
    "# callrates = cnvs[['SampleID', 'CallRate']]\n",
    "# callrates.drop_duplicates(inplace=True)\n",
    "# callrates.to_csv('./DigCNV/data/example_callrates.tsv', sep='\\t', index=False)"
   ]
  },
  {
   "cell_type": "markdown",
   "metadata": {},
   "source": [
    "## Prepare dataset for DigCNV\n",
    "### Check data structure before adding other useful columns"
   ]
  },
  {
   "cell_type": "code",
   "execution_count": null,
   "metadata": {},
   "outputs": [],
   "source": [
    "dataVerif.checkIfMandatoryColumnsExist(cnvs, post_data_preparation=False)\n",
    "dataVerif.checkColumnsformats(cnvs, post_data_preparation=False)"
   ]
  },
  {
   "cell_type": "markdown",
   "metadata": {},
   "source": [
    "### Adding new features comming from derived data or other datasets"
   ]
  },
  {
   "cell_type": "code",
   "execution_count": null,
   "metadata": {},
   "outputs": [],
   "source": [
    "cnvs = dataPreparation.addDerivedFeatures(cnvs)\n",
    "# cnvs = dataPreparation.addChromosomicAnnotation(cnvs)\n",
    "cnvs = dataPreparation.addCallRateToDataset(cnvs, call_rate_path='./DigCNV/data/callrates.tsv', callrate_colname='CallRate', individual_colname='SampleID')\n",
    "cnvs = dataPreparation.addNbProbeByTech(cnvs, pfb_file_path='./DigCNV/data/UKBB_PFB.pfb')\n",
    "cnvs = dataPreparation.transformTwoAlgsFeatures(cnvs)\n"
   ]
  },
  {
   "cell_type": "markdown",
   "metadata": {},
   "source": [
    "### Checking data before prediction"
   ]
  },
  {
   "cell_type": "code",
   "execution_count": null,
   "metadata": {},
   "outputs": [],
   "source": [
    "dataVerif.checkIfMandatoryColumnsExist(cnvs, post_data_preparation=True)\n",
    "dataVerif.checkColumnsformats(cnvs, post_data_preparation=True)\n",
    "dataVerif.computeNaPercentage(cnvs, dimensions=model_dimensions)\n",
    "dataVerif.plotCorrelationHeatMap(cnvs, list_dim=model_dimensions, output_path='./outputs/correlation.png')"
   ]
  },
  {
   "cell_type": "markdown",
   "metadata": {},
   "source": [
    "## Run model with pretrained model"
   ]
  },
  {
   "cell_type": "code",
   "execution_count": null,
   "metadata": {},
   "outputs": [],
   "source": [
    "model = digCnvModel.DigCnvModel()\n",
    "model.openPreTrainedDigCnvModel(model_path='./digcnv/data/DigCNV_model_multiple_technos.pkl')\n",
    "predicted_cnvs = model.predictCnvClasses(cnvs)\n",
    "print(predicted_cnvs.shape)\n",
    "print(predicted_cnvs.DigCNVpred.value_counts())"
   ]
  },
  {
   "cell_type": "markdown",
   "metadata": {},
   "source": [
    "## Train model with given dataset\n",
    "\n",
    "### Prepare datasets for training and testing"
   ]
  },
  {
   "cell_type": "code",
   "execution_count": 2,
   "metadata": {},
   "outputs": [
    {
     "name": "stderr",
     "output_type": "stream",
     "text": [
      "2022-09-12 14:26:47,975 :: __init__:\t Empty DigCNV model created\n",
      "2022-09-12 14:26:48,797 :: openPreTrainedDigCnvModel:\t Pre trained model loaded from ./digcnv/data/DigCNV_model_multiple_technos.pkl\n",
      "2022-09-12 14:26:48,799 :: openPreTrainedDigCnvModel:\t Version Warning: {message : UserWarning('Trying to unpickle estimator DecisionTreeClassifier from version 1.1.1 when using version 1.1.2. This might lead to breaking code or invalid results. Use at your own risk. For more info please refer to:\\nhttps://scikit-learn.org/stable/model_persistence.html#security-maintainability-limitations'), category : 'UserWarning', filename : '/home/thomas/Documents/scripts/DigCNV/DigCNVenv/lib/python3.10/site-packages/sklearn/base.py', lineno : 329, line : None}\n",
      "2022-09-12 14:26:48,800 :: openPreTrainedDigCnvModel:\t Pre trained model will use ['WF', 'Score_SNP', 'DENSITY', 'CallRate', 'overlapCNV_SegDup', 'TwoAlgs', 'Nb_Probe_tech'] as predictors\n"
     ]
    }
   ],
   "source": [
    "model = digCnvModel.DigCnvModel()\n",
    "model.openPreTrainedDigCnvModel(model_path='./digcnv/data/DigCNV_model_multiple_technos.pkl')\n",
    "cnvs = pd.read_csv(\"temp_data/UKBB_clean_for_DigCNV.tsv\", sep=\"\\t\")"
   ]
  },
  {
   "cell_type": "code",
   "execution_count": 3,
   "metadata": {},
   "outputs": [
    {
     "name": "stderr",
     "output_type": "stream",
     "text": [
      "2022-09-12 14:26:50,902 :: createTrainingTestingDatasets:\t Training dataset\n",
      "2022-09-12 14:26:50,904 :: createTrainingTestingDatasets:\t (5167, 7)\n",
      "2022-09-12 14:26:50,907 :: createTrainingTestingDatasets:\t Testing dataset\n",
      "2022-09-12 14:26:50,909 :: createTrainingTestingDatasets:\t (2546, 7)\n",
      "2022-09-12 14:26:50,915 :: uniformizeClassesSizes:\t \n",
      "Training dataset classes\n",
      "1    4863\n",
      "0     304\n",
      "Name: SnipPeep_Ok, dtype: int64\n",
      "2022-09-12 14:26:50,960 :: uniformizeClassesSizes:\t \n",
      "Training dataset after uniformizing classes\n",
      "1    3890\n",
      "0    1945\n",
      "Name: SnipPeep_Ok, dtype: int64\n"
     ]
    },
    {
     "name": "stdout",
     "output_type": "stream",
     "text": [
      "1    2381\n",
      "0     165\n",
      "Name: SnipPeep_Ok, dtype: int64\n"
     ]
    },
    {
     "name": "stderr",
     "output_type": "stream",
     "text": [
      "2022-09-12 14:26:51,725 :: evaluateCnvClassification:\t Sensibility : 0.999\n",
      "2022-09-12 14:26:51,729 :: evaluateCnvClassification:\t Specificity : 0.948\n",
      "2022-09-12 14:26:51,737 :: evaluateCnvClassification:\t AUC : 0.99%\n",
      "2022-09-12 14:26:51,743 :: evaluateCnvClassification:\t Accuracy : 0.996\n",
      "2022-09-12 14:26:51,751 :: evaluateCnvClassification:\t F1 Score : 0.998\n"
     ]
    },
    {
     "data": {
      "image/png": "[encoded data removed]",
      "text/plain": [
       "<Figure size 640x480 with 1 Axes>"
      ]
     },
     "metadata": {},
     "output_type": "display_data"
    },
    {
     "name": "stdout",
     "output_type": "stream",
     "text": [
      "1    2381\n",
      "0     165\n",
      "Name: true_class, dtype: int64\n",
      "(2546, 7)\n",
      "(2546, 4)\n",
      "(2546, 12)\n",
      "1    2381\n",
      "0     165\n",
      "Name: true_class, dtype: int64\n"
     ]
    },
    {
     "data": {
      "image/png": "[encoded data removed]",
      "text/plain": [
       "<Figure size 2000x1200 with 1 Axes>"
      ]
     },
     "metadata": {},
     "output_type": "display_data"
    }
   ],
   "source": [
    "cnvs, removed = DigCnvPreProcessing.removeLinesWithNA(cnvs, dimensions=model._dimensions + [\"SnipPeep_Ok\"])\n",
    "\n",
    "X_train, y_train, X_test, y_test = DigCnvPreProcessing.createTrainingTestingDatasets(cnvs, dimensions=model._dimensions, X_dimension=\"SnipPeep_Ok\")\n",
    "X_train, y_train = DigCnvPreProcessing.uniformizeClassesSizes(X_train, y_train, 17, 0.4, 0.5)\n",
    "print(y_test.value_counts())\n",
    "model.evaluateCnvClassification(testing_df=X_test, expected_values=y_test)\n"
   ]
  },
  {
   "cell_type": "markdown",
   "metadata": {},
   "source": [
    "### Tunning hyperparameters used in the model (Optional, takes a lot of time)"
   ]
  },
  {
   "cell_type": "code",
   "execution_count": null,
   "metadata": {},
   "outputs": [],
   "source": []
  },
  {
   "cell_type": "markdown",
   "metadata": {},
   "source": [
    "### Training DigCNV model with given CNVs"
   ]
  },
  {
   "cell_type": "code",
   "execution_count": null,
   "metadata": {},
   "outputs": [],
   "source": [
    "dig_cnv = digCnvModel.DigCnvModel()\n",
    "dig_cnv.createDigCnvClassifier()\n",
    "dig_cnv.trainDigCnvModel(training_data=X_train, training_cat=y_train)"
   ]
  },
  {
   "cell_type": "markdown",
   "metadata": {},
   "source": [
    "### Evaluate model power + save model"
   ]
  },
  {
   "cell_type": "code",
   "execution_count": null,
   "metadata": {},
   "outputs": [],
   "source": [
    "dig_cnv.evaluateCnvClassification(testing_df=X_test, expected_valeues=y_test)\n",
    "dig_cnv.saveDigCnvModelToPkl(output_path=\"./outputs/trained_model.pkl\")"
   ]
  }
 ],
 "metadata": {
  "kernelspec": {
   "display_name": "Python 3.10.4 ('DigCNVenv': venv)",
   "language": "python",
   "name": "python3"
  },
  "language_info": {
   "codemirror_mode": {
    "name": "ipython",
    "version": 3
   },
   "file_extension": ".py",
   "mimetype": "text/x-python",
   "name": "python",
   "nbconvert_exporter": "python",
   "pygments_lexer": "ipython3",
   "version": "3.10.6"
  },
  "orig_nbformat": 4,
  "vscode": {
   "interpreter": {
    "hash": "6c6f0cfe24c4decf7bccefb3b768c4580a9738fa0db7d8350fe6b2ed0fe1e71f"
   }
  }
 },
 "nbformat": 4,
 "nbformat_minor": 2
}
